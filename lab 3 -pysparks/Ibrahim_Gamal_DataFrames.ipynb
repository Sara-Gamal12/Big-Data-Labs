{
  "nbformat": 4,
  "nbformat_minor": 0,
  "metadata": {
    "colab": {
      "provenance": []
    },
    "kernelspec": {
      "name": "python3",
      "display_name": "Python 3"
    },
    "language_info": {
      "name": "python"
    }
  },
  "cells": [
    {
      "cell_type": "code",
      "source": [
        "#Eman Ibrahim Elbedwihy 9210265\n",
        "#Sara Gamal Gerges 9210455"
      ],
      "metadata": {
        "id": "ZAyLuzDgBrQ1"
      },
      "execution_count": null,
      "outputs": []
    },
    {
      "cell_type": "code",
      "execution_count": null,
      "metadata": {
        "id": "xLboDQ-h5f6p"
      },
      "outputs": [],
      "source": [
        "import findspark\n",
        "findspark.init()\n",
        "from pyspark.sql import SparkSession\n",
        "from pyspark.conf import SparkConf\n",
        "from pyspark.sql.functions import *"
      ]
    },
    {
      "cell_type": "code",
      "source": [
        "spark=SparkSession.builder\\\n",
        "    .master(\"local[*]\")\\\n",
        "    .appName(\"DF\")\\\n",
        "    .getOrCreate()\n",
        "df = spark.read.csv(\"/products.csv\", header=True, inferSchema=True)"
      ],
      "metadata": {
        "id": "k6uzfrTc5pXc"
      },
      "execution_count": null,
      "outputs": []
    },
    {
      "cell_type": "code",
      "source": [
        "#Display schema of DataFrame.\n",
        "print(\"Schema of DataFrame\")\n",
        "df.printSchema()"
      ],
      "metadata": {
        "colab": {
          "base_uri": "https://localhost:8080/"
        },
        "id": "jUeiTfGY6NAH",
        "outputId": "3ac69bc4-3ee1-423e-f602-3b82b8230b83"
      },
      "execution_count": null,
      "outputs": [
        {
          "output_type": "stream",
          "name": "stdout",
          "text": [
            "Schema of DataFrame\n",
            "root\n",
            " |-- id: integer (nullable = true)\n",
            " |-- name: string (nullable = true)\n",
            " |-- category: string (nullable = true)\n",
            " |-- quantity: integer (nullable = true)\n",
            " |-- price: double (nullable = true)\n",
            "\n"
          ]
        }
      ]
    },
    {
      "cell_type": "code",
      "source": [
        "#Select specific columns [“id”, ”name”, ”price”].\n",
        "selected_df=df.select(\"id\",\"name\",\"price\")\n",
        "print(\"Selected columns id, name, price\")\n",
        "selected_df.show()"
      ],
      "metadata": {
        "colab": {
          "base_uri": "https://localhost:8080/"
        },
        "id": "SUMCOSnQ6YE4",
        "outputId": "55503226-4e5c-4842-c7da-072acf3c07bc"
      },
      "execution_count": null,
      "outputs": [
        {
          "output_type": "stream",
          "name": "stdout",
          "text": [
            "Selected columns id, name, price\n",
            "+---+--------------------+------+\n",
            "| id|                name| price|\n",
            "+---+--------------------+------+\n",
            "|  1|           iPhone 12|899.99|\n",
            "|  2|     Nike Air Max 90|119.99|\n",
            "|  3|KitchenAid Stand ...|299.99|\n",
            "|  4|    The Great Gatsby| 12.99|\n",
            "|  5|L'Oreal Paris Mas...|  9.99|\n",
            "|  6|            Yoga Mat| 29.99|\n",
            "|  7| Samsung 4K Smart TV|799.99|\n",
            "|  8|        Levi's Jeans| 49.99|\n",
            "|  9|Dyson Vacuum Cleaner|399.99|\n",
            "| 10| Harry Potter Series| 15.99|\n",
            "| 11|        MAC Lipstick| 16.99|\n",
            "| 12|Adidas Running Shoes| 59.99|\n",
            "| 13|       PlayStation 5|499.99|\n",
            "| 14|   Hooded Sweatshirt| 34.99|\n",
            "| 15|        Coffee Maker| 89.99|\n",
            "| 16|To Kill a Mocking...|  9.99|\n",
            "| 17|        Skincare Set| 49.99|\n",
            "| 18|           Yoga Ball| 19.99|\n",
            "| 19|Sony Noise-Cancel...|299.99|\n",
            "| 20|        Puma T-shirt| 19.99|\n",
            "+---+--------------------+------+\n",
            "\n"
          ]
        }
      ]
    },
    {
      "cell_type": "code",
      "source": [
        "#Filter rows based on a condition of quantity > 20.\n",
        "filtered_df=df.filter(df[\"quantity\"] > 20)\n",
        "print(\"Filtered rows where quantity>20\")\n",
        "filtered_df.show()"
      ],
      "metadata": {
        "colab": {
          "base_uri": "https://localhost:8080/"
        },
        "id": "jybbzF_X6q66",
        "outputId": "12e9b310-dfbf-4377-d5cf-acee32d4dfef"
      },
      "execution_count": null,
      "outputs": [
        {
          "output_type": "stream",
          "name": "stdout",
          "text": [
            "Filtered rows where quantity>20\n",
            "+---+--------------------+--------+--------+------+\n",
            "| id|                name|category|quantity| price|\n",
            "+---+--------------------+--------+--------+------+\n",
            "|  2|     Nike Air Max 90|Clothing|      25|119.99|\n",
            "|  4|    The Great Gatsby|   Books|      50| 12.99|\n",
            "|  5|L'Oreal Paris Mas...|  Beauty|     100|  9.99|\n",
            "|  6|            Yoga Mat|  Sports|      30| 29.99|\n",
            "| 11|        MAC Lipstick|  Beauty|      75| 16.99|\n",
            "| 12|Adidas Running Shoes|  Sports|      22| 59.99|\n",
            "| 17|        Skincare Set|  Beauty|      50| 49.99|\n",
            "| 20|        Puma T-shirt|Clothing|      40| 19.99|\n",
            "+---+--------------------+--------+--------+------+\n",
            "\n"
          ]
        }
      ]
    },
    {
      "cell_type": "code",
      "source": [
        "#Apply sum and average aggregations on “price”, grouped on “category” column.\n",
        "sum_df=df.groupBy(\"category\").agg(sum(\"price\"))\n",
        "print(\"Sum of price\")\n",
        "sum_df.show()\n",
        "avg_df=df.groupBy(\"category\").agg(avg(\"price\"))\n",
        "print(\"Avg of price\")\n",
        "avg_df.show()"
      ],
      "metadata": {
        "colab": {
          "base_uri": "https://localhost:8080/"
        },
        "id": "h4yOEkEG7Ck-",
        "outputId": "5d3635a9-eb96-4789-b300-6a0a383299f4"
      },
      "execution_count": null,
      "outputs": [
        {
          "output_type": "stream",
          "name": "stdout",
          "text": [
            "Sum of price\n",
            "+---------------+----------+\n",
            "|       category|sum(price)|\n",
            "+---------------+----------+\n",
            "|         Sports|    109.97|\n",
            "|    Electronics|   2499.96|\n",
            "|       Clothing|    224.96|\n",
            "|          Books|     38.97|\n",
            "|Home Appliances|    789.97|\n",
            "|         Beauty|     76.97|\n",
            "+---------------+----------+\n",
            "\n",
            "Avg of price\n",
            "+---------------+------------------+\n",
            "|       category|        avg(price)|\n",
            "+---------------+------------------+\n",
            "|         Sports|36.656666666666666|\n",
            "|    Electronics|            624.99|\n",
            "|       Clothing|             56.24|\n",
            "|          Books|             12.99|\n",
            "|Home Appliances| 263.3233333333333|\n",
            "|         Beauty|25.656666666666666|\n",
            "+---------------+------------------+\n",
            "\n"
          ]
        }
      ]
    },
    {
      "cell_type": "code",
      "source": [
        "#Make a new DataFrame with “id” and “category” columns only for the top 10 elements of products DataFrame and then merge the two DataFrames on “id”.\n",
        "new_df = df.select(\"id\", \"category\").limit(10)\n",
        "merged_df = df.join(new_df, on='id', how='inner')\n",
        "print(\"The merged Data Frame\")\n",
        "merged_df.show()"
      ],
      "metadata": {
        "colab": {
          "base_uri": "https://localhost:8080/"
        },
        "id": "dvxg09-r7Rxd",
        "outputId": "b8dfc2a4-c3ed-4631-9d96-0b6678960af5"
      },
      "execution_count": null,
      "outputs": [
        {
          "output_type": "stream",
          "name": "stdout",
          "text": [
            "The merged Data Frame\n",
            "+---+--------------------+---------------+--------+------+---------------+\n",
            "| id|                name|       category|quantity| price|       category|\n",
            "+---+--------------------+---------------+--------+------+---------------+\n",
            "|  1|           iPhone 12|    Electronics|      10|899.99|    Electronics|\n",
            "|  2|     Nike Air Max 90|       Clothing|      25|119.99|       Clothing|\n",
            "|  3|KitchenAid Stand ...|Home Appliances|       5|299.99|Home Appliances|\n",
            "|  4|    The Great Gatsby|          Books|      50| 12.99|          Books|\n",
            "|  5|L'Oreal Paris Mas...|         Beauty|     100|  9.99|         Beauty|\n",
            "|  6|            Yoga Mat|         Sports|      30| 29.99|         Sports|\n",
            "|  7| Samsung 4K Smart TV|    Electronics|       8|799.99|    Electronics|\n",
            "|  8|        Levi's Jeans|       Clothing|      15| 49.99|       Clothing|\n",
            "|  9|Dyson Vacuum Cleaner|Home Appliances|       3|399.99|Home Appliances|\n",
            "| 10| Harry Potter Series|          Books|      20| 15.99|          Books|\n",
            "+---+--------------------+---------------+--------+------+---------------+\n",
            "\n"
          ]
        }
      ]
    },
    {
      "cell_type": "code",
      "source": [
        "#Sort rows by “price” column.\n",
        "sorted_df = df.orderBy(\"price\")\n",
        "print(\"Sorted rows by price\")\n",
        "sorted_df.show()"
      ],
      "metadata": {
        "colab": {
          "base_uri": "https://localhost:8080/"
        },
        "id": "JHann8Z78Z8x",
        "outputId": "1cd29bfd-0a56-40ef-cf70-f6c561cc0056"
      },
      "execution_count": null,
      "outputs": [
        {
          "output_type": "stream",
          "name": "stdout",
          "text": [
            "Sorted rows by price\n",
            "+---+--------------------+---------------+--------+------+\n",
            "| id|                name|       category|quantity| price|\n",
            "+---+--------------------+---------------+--------+------+\n",
            "|  5|L'Oreal Paris Mas...|         Beauty|     100|  9.99|\n",
            "| 16|To Kill a Mocking...|          Books|      15|  9.99|\n",
            "|  4|    The Great Gatsby|          Books|      50| 12.99|\n",
            "| 10| Harry Potter Series|          Books|      20| 15.99|\n",
            "| 11|        MAC Lipstick|         Beauty|      75| 16.99|\n",
            "| 18|           Yoga Ball|         Sports|      18| 19.99|\n",
            "| 20|        Puma T-shirt|       Clothing|      40| 19.99|\n",
            "|  6|            Yoga Mat|         Sports|      30| 29.99|\n",
            "| 14|   Hooded Sweatshirt|       Clothing|      10| 34.99|\n",
            "|  8|        Levi's Jeans|       Clothing|      15| 49.99|\n",
            "| 17|        Skincare Set|         Beauty|      50| 49.99|\n",
            "| 12|Adidas Running Shoes|         Sports|      22| 59.99|\n",
            "| 15|        Coffee Maker|Home Appliances|       7| 89.99|\n",
            "|  2|     Nike Air Max 90|       Clothing|      25|119.99|\n",
            "|  3|KitchenAid Stand ...|Home Appliances|       5|299.99|\n",
            "| 19|Sony Noise-Cancel...|    Electronics|       6|299.99|\n",
            "|  9|Dyson Vacuum Cleaner|Home Appliances|       3|399.99|\n",
            "| 13|       PlayStation 5|    Electronics|      12|499.99|\n",
            "|  7| Samsung 4K Smart TV|    Electronics|       8|799.99|\n",
            "|  1|           iPhone 12|    Electronics|      10|899.99|\n",
            "+---+--------------------+---------------+--------+------+\n",
            "\n"
          ]
        }
      ]
    },
    {
      "cell_type": "code",
      "source": [
        "#Get all unique values of the “category” column.\n",
        "unique_categories = df.select(\"category\").distinct()\n",
        "print(\"All unique values of the category\")\n",
        "unique_categories.show()"
      ],
      "metadata": {
        "colab": {
          "base_uri": "https://localhost:8080/"
        },
        "id": "zLnpmlJj8rI_",
        "outputId": "b4392c8f-11c4-4148-8014-23da9ed78308"
      },
      "execution_count": null,
      "outputs": [
        {
          "output_type": "stream",
          "name": "stdout",
          "text": [
            "All unique values of the category\n",
            "+---------------+\n",
            "|       category|\n",
            "+---------------+\n",
            "|         Sports|\n",
            "|    Electronics|\n",
            "|       Clothing|\n",
            "|          Books|\n",
            "|Home Appliances|\n",
            "|         Beauty|\n",
            "+---------------+\n",
            "\n"
          ]
        }
      ]
    },
    {
      "cell_type": "code",
      "source": [
        "#Drop “quantity” and “category” columns.\n",
        "dropped_df = df.drop(\"quantity\", \"category\")\n",
        "print(\"Data Frame after dropping quantity and category columns\")\n",
        "dropped_df.show()"
      ],
      "metadata": {
        "colab": {
          "base_uri": "https://localhost:8080/"
        },
        "id": "ifrWJUOX81Sa",
        "outputId": "12618db5-2828-49e1-c091-bdd28a0e6090"
      },
      "execution_count": null,
      "outputs": [
        {
          "output_type": "stream",
          "name": "stdout",
          "text": [
            "Data Frame after dropping quantity and category columns\n",
            "+---+--------------------+------+\n",
            "| id|                name| price|\n",
            "+---+--------------------+------+\n",
            "|  1|           iPhone 12|899.99|\n",
            "|  2|     Nike Air Max 90|119.99|\n",
            "|  3|KitchenAid Stand ...|299.99|\n",
            "|  4|    The Great Gatsby| 12.99|\n",
            "|  5|L'Oreal Paris Mas...|  9.99|\n",
            "|  6|            Yoga Mat| 29.99|\n",
            "|  7| Samsung 4K Smart TV|799.99|\n",
            "|  8|        Levi's Jeans| 49.99|\n",
            "|  9|Dyson Vacuum Cleaner|399.99|\n",
            "| 10| Harry Potter Series| 15.99|\n",
            "| 11|        MAC Lipstick| 16.99|\n",
            "| 12|Adidas Running Shoes| 59.99|\n",
            "| 13|       PlayStation 5|499.99|\n",
            "| 14|   Hooded Sweatshirt| 34.99|\n",
            "| 15|        Coffee Maker| 89.99|\n",
            "| 16|To Kill a Mocking...|  9.99|\n",
            "| 17|        Skincare Set| 49.99|\n",
            "| 18|           Yoga Ball| 19.99|\n",
            "| 19|Sony Noise-Cancel...|299.99|\n",
            "| 20|        Puma T-shirt| 19.99|\n",
            "+---+--------------------+------+\n",
            "\n"
          ]
        }
      ]
    },
    {
      "cell_type": "code",
      "source": [
        "#Derive “revenue” columns to be price*quantity\n",
        "added_df=df.withColumn(\"revenue\",df[\"price\"]*df[\"quantity\"])\n",
        "print(\"Data Frame with added column revenue\")\n",
        "added_df.show()"
      ],
      "metadata": {
        "colab": {
          "base_uri": "https://localhost:8080/"
        },
        "id": "cdLM_gtR9K-b",
        "outputId": "063af048-8f54-4040-bf0e-4ac18e9d1602"
      },
      "execution_count": null,
      "outputs": [
        {
          "output_type": "stream",
          "name": "stdout",
          "text": [
            "Data Frame with added column revenue\n",
            "+---+--------------------+---------------+--------+------+------------------+\n",
            "| id|                name|       category|quantity| price|           revenue|\n",
            "+---+--------------------+---------------+--------+------+------------------+\n",
            "|  1|           iPhone 12|    Electronics|      10|899.99|            8999.9|\n",
            "|  2|     Nike Air Max 90|       Clothing|      25|119.99|           2999.75|\n",
            "|  3|KitchenAid Stand ...|Home Appliances|       5|299.99|           1499.95|\n",
            "|  4|    The Great Gatsby|          Books|      50| 12.99|             649.5|\n",
            "|  5|L'Oreal Paris Mas...|         Beauty|     100|  9.99|             999.0|\n",
            "|  6|            Yoga Mat|         Sports|      30| 29.99| 899.6999999999999|\n",
            "|  7| Samsung 4K Smart TV|    Electronics|       8|799.99|           6399.92|\n",
            "|  8|        Levi's Jeans|       Clothing|      15| 49.99|            749.85|\n",
            "|  9|Dyson Vacuum Cleaner|Home Appliances|       3|399.99|           1199.97|\n",
            "| 10| Harry Potter Series|          Books|      20| 15.99|             319.8|\n",
            "| 11|        MAC Lipstick|         Beauty|      75| 16.99|1274.2499999999998|\n",
            "| 12|Adidas Running Shoes|         Sports|      22| 59.99|           1319.78|\n",
            "| 13|       PlayStation 5|    Electronics|      12|499.99|           5999.88|\n",
            "| 14|   Hooded Sweatshirt|       Clothing|      10| 34.99|349.90000000000003|\n",
            "| 15|        Coffee Maker|Home Appliances|       7| 89.99|            629.93|\n",
            "| 16|To Kill a Mocking...|          Books|      15|  9.99|            149.85|\n",
            "| 17|        Skincare Set|         Beauty|      50| 49.99|            2499.5|\n",
            "| 18|           Yoga Ball|         Sports|      18| 19.99|            359.82|\n",
            "| 19|Sony Noise-Cancel...|    Electronics|       6|299.99|           1799.94|\n",
            "| 20|        Puma T-shirt|       Clothing|      40| 19.99| 799.5999999999999|\n",
            "+---+--------------------+---------------+--------+------+------------------+\n",
            "\n"
          ]
        }
      ]
    },
    {
      "cell_type": "code",
      "source": [
        "#Rename “price” to be “unit_price”\n",
        "renamed_df=df.withColumnRenamed(\"price\",\"unit_price\")\n",
        "print(\"Data Frame with renamed column price to unit_price\")\n",
        "renamed_df.show()"
      ],
      "metadata": {
        "colab": {
          "base_uri": "https://localhost:8080/"
        },
        "id": "CTjxqErv9aiv",
        "outputId": "1c56665e-82da-4a1b-f129-09244bfd4fec"
      },
      "execution_count": null,
      "outputs": [
        {
          "output_type": "stream",
          "name": "stdout",
          "text": [
            "Data Frame with renamed column price to unit_price\n",
            "+---+--------------------+---------------+--------+----------+\n",
            "| id|                name|       category|quantity|unit_price|\n",
            "+---+--------------------+---------------+--------+----------+\n",
            "|  1|           iPhone 12|    Electronics|      10|    899.99|\n",
            "|  2|     Nike Air Max 90|       Clothing|      25|    119.99|\n",
            "|  3|KitchenAid Stand ...|Home Appliances|       5|    299.99|\n",
            "|  4|    The Great Gatsby|          Books|      50|     12.99|\n",
            "|  5|L'Oreal Paris Mas...|         Beauty|     100|      9.99|\n",
            "|  6|            Yoga Mat|         Sports|      30|     29.99|\n",
            "|  7| Samsung 4K Smart TV|    Electronics|       8|    799.99|\n",
            "|  8|        Levi's Jeans|       Clothing|      15|     49.99|\n",
            "|  9|Dyson Vacuum Cleaner|Home Appliances|       3|    399.99|\n",
            "| 10| Harry Potter Series|          Books|      20|     15.99|\n",
            "| 11|        MAC Lipstick|         Beauty|      75|     16.99|\n",
            "| 12|Adidas Running Shoes|         Sports|      22|     59.99|\n",
            "| 13|       PlayStation 5|    Electronics|      12|    499.99|\n",
            "| 14|   Hooded Sweatshirt|       Clothing|      10|     34.99|\n",
            "| 15|        Coffee Maker|Home Appliances|       7|     89.99|\n",
            "| 16|To Kill a Mocking...|          Books|      15|      9.99|\n",
            "| 17|        Skincare Set|         Beauty|      50|     49.99|\n",
            "| 18|           Yoga Ball|         Sports|      18|     19.99|\n",
            "| 19|Sony Noise-Cancel...|    Electronics|       6|    299.99|\n",
            "| 20|        Puma T-shirt|       Clothing|      40|     19.99|\n",
            "+---+--------------------+---------------+--------+----------+\n",
            "\n"
          ]
        }
      ]
    }
  ]
}