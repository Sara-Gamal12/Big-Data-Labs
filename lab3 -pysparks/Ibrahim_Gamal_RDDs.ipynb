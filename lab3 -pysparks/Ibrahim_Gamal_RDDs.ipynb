{
  "nbformat": 4,
  "nbformat_minor": 0,
  "metadata": {
    "colab": {
      "provenance": []
    },
    "kernelspec": {
      "name": "python3",
      "display_name": "Python 3"
    },
    "language_info": {
      "name": "python"
    }
  },
  "cells": [
    {
      "cell_type": "code",
      "source": [
        "#Eman Ibrahim Elbedwihy 9210265\n",
        "#Sara Gamal Gerges 9210455"
      ],
      "metadata": {
        "id": "3s_wFoVjB3He"
      },
      "execution_count": null,
      "outputs": []
    },
    {
      "cell_type": "code",
      "execution_count": null,
      "metadata": {
        "id": "OxmNO_pY19MS"
      },
      "outputs": [],
      "source": [
        "import findspark\n",
        "findspark.init()\n",
        "from pyspark.sql import SparkSession\n",
        "from pyspark.conf import SparkConf"
      ]
    },
    {
      "cell_type": "code",
      "source": [
        "spark=SparkSession.builder\\\n",
        "    .master(\"local[*]\")\\\n",
        "    .appName(\"RDD\")\\\n",
        "    .getOrCreate()\n",
        "sc=spark.sparkContext\n",
        "data = [(\"Alice\", 25), (\"Bob\", 30), (\"Charlie\", 35), (\"Alice\", 40)]\n",
        "rdd=sc.parallelize(data)"
      ],
      "metadata": {
        "id": "Ana0Eh-e2Dl5"
      },
      "execution_count": null,
      "outputs": []
    },
    {
      "cell_type": "code",
      "source": [
        "#Get the total number of elements in the RDD you have created.\n",
        "count=rdd.count()\n",
        "print(f\"Total number of elements: {count}\")\n"
      ],
      "metadata": {
        "colab": {
          "base_uri": "https://localhost:8080/"
        },
        "id": "0jYtnKrK2UfW",
        "outputId": "4cc9635f-28e7-49d0-8dc0-1f8ce84340ff"
      },
      "execution_count": null,
      "outputs": [
        {
          "output_type": "stream",
          "name": "stdout",
          "text": [
            "Total number of elements: 4\n"
          ]
        }
      ]
    },
    {
      "cell_type": "code",
      "source": [
        "#Retrieve the first element of the RDD.\n",
        "first=rdd.first()\n",
        "print(f\"The first element of the RDD: {first}\")"
      ],
      "metadata": {
        "colab": {
          "base_uri": "https://localhost:8080/"
        },
        "id": "DG4AJ5j021iO",
        "outputId": "71979978-1c2f-4392-d4f7-07af1cf187ec"
      },
      "execution_count": null,
      "outputs": [
        {
          "output_type": "stream",
          "name": "stdout",
          "text": [
            "The first element of the RDD: ('Alice', 25)\n"
          ]
        }
      ]
    },
    {
      "cell_type": "code",
      "source": [
        "#Create a function that retrieves the first K elements of the RDD.\n",
        "first_2=rdd.take(2)\n",
        "print(f\"The first 2 elements of the RDD: {first_2}\")"
      ],
      "metadata": {
        "colab": {
          "base_uri": "https://localhost:8080/"
        },
        "id": "smEvJT4-3QG-",
        "outputId": "5b0097fa-7bd4-41f0-bc28-1f728116be70"
      },
      "execution_count": null,
      "outputs": [
        {
          "output_type": "stream",
          "name": "stdout",
          "text": [
            "The first 2 elements of the RDD: [('Alice', 25), ('Bob', 30)]\n"
          ]
        }
      ]
    },
    {
      "cell_type": "code",
      "source": [
        "#Print all elements of the RDD\n",
        "elements=rdd.collect()\n",
        "print(f\"All elements of the RDD: {elements}\")\n"
      ],
      "metadata": {
        "colab": {
          "base_uri": "https://localhost:8080/"
        },
        "id": "f4WM4CDl253f",
        "outputId": "108e5243-a9f6-48ea-94b1-9f5b7687e13a"
      },
      "execution_count": null,
      "outputs": [
        {
          "output_type": "stream",
          "name": "stdout",
          "text": [
            "All elements of the RDD: [('Alice', 25), ('Bob', 30), ('Charlie', 35), ('Alice', 40)]\n"
          ]
        }
      ]
    },
    {
      "cell_type": "code",
      "source": [
        "#Convert all names of the RDD to uppercase.\n",
        "uppercase_rdd = rdd.map(lambda x: (x[0].upper(), x[1]))\n",
        "uppercase_rdd=uppercase_rdd.collect()\n",
        "print(f\"All names converted to uppercase: {uppercase_rdd}\")"
      ],
      "metadata": {
        "colab": {
          "base_uri": "https://localhost:8080/"
        },
        "id": "GkzU5hpr31wS",
        "outputId": "98659bb6-d235-4ab4-a9a7-75c263f0a2da"
      },
      "execution_count": null,
      "outputs": [
        {
          "output_type": "stream",
          "name": "stdout",
          "text": [
            "All names converted to uppercase: [('ALICE', 25), ('BOB', 30), ('CHARLIE', 35), ('ALICE', 40)]\n"
          ]
        }
      ]
    },
    {
      "cell_type": "code",
      "source": [
        "#Filter records where age is greater than 30.\n",
        "filtered_rdd = rdd.filter(lambda x: (x[1]>30))\n",
        "filtered_rdd=filtered_rdd.collect()\n",
        "print(f\"Filterd records(age>30): {filtered_rdd}\")"
      ],
      "metadata": {
        "colab": {
          "base_uri": "https://localhost:8080/"
        },
        "id": "Qtn8-zMC4VQo",
        "outputId": "e6619586-18f5-4429-f6e6-c2344255b9d8"
      },
      "execution_count": null,
      "outputs": [
        {
          "output_type": "stream",
          "name": "stdout",
          "text": [
            "Filterd records(age>30): [('Charlie', 35), ('Alice', 40)]\n"
          ]
        }
      ]
    },
    {
      "cell_type": "code",
      "source": [
        "#Calculate the total age for each name.\n",
        "reduced_rdd = rdd.reduceByKey(lambda x, y: x + y)\n",
        "reduced_rdd=reduced_rdd.collect()\n",
        "print(f\"The total age for each name: {reduced_rdd}\")"
      ],
      "metadata": {
        "colab": {
          "base_uri": "https://localhost:8080/"
        },
        "id": "lRTIvBfJ4ojT",
        "outputId": "be85f61f-67ce-4a0d-9d3b-d7ea52c3dc66"
      },
      "execution_count": null,
      "outputs": [
        {
          "output_type": "stream",
          "name": "stdout",
          "text": [
            "The total age for each name: [('Alice', 65), ('Bob', 30), ('Charlie', 35)]\n"
          ]
        }
      ]
    },
    {
      "cell_type": "code",
      "source": [
        "#Sort the RDD by age in descending order\n",
        "sorted_rdd=rdd.sortBy(lambda x: x[1], ascending=False)\n",
        "sorted_rdd=sorted_rdd.collect()\n",
        "print(f\"Sorted RDD by age in descending order: {sorted_rdd}\")"
      ],
      "metadata": {
        "colab": {
          "base_uri": "https://localhost:8080/"
        },
        "id": "5uWmCyD_46fQ",
        "outputId": "a3ed0d6c-eea4-432d-caf4-5aafaa03bd46"
      },
      "execution_count": null,
      "outputs": [
        {
          "output_type": "stream",
          "name": "stdout",
          "text": [
            "Sorted RDD by age in descending order: [('Alice', 40), ('Charlie', 35), ('Bob', 30), ('Alice', 25)]\n"
          ]
        }
      ]
    }
  ]
}