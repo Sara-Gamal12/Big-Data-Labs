{
  "nbformat": 4,
  "nbformat_minor": 0,
  "metadata": {
    "colab": {
      "provenance": []
    },
    "kernelspec": {
      "name": "python3",
      "display_name": "Python 3"
    },
    "language_info": {
      "name": "python"
    }
  },
  "cells": [
    {
      "cell_type": "code",
      "source": [
        "#Eman Ibrahim Elbedwihy 9210265\n",
        "#Sara Gamal Gerges 9210455"
      ],
      "metadata": {
        "id": "-c9l2oNvAU35"
      },
      "execution_count": null,
      "outputs": []
    },
    {
      "cell_type": "code",
      "execution_count": 2,
      "metadata": {
        "id": "PfgPL7Qx-xpc"
      },
      "outputs": [],
      "source": [
        "import findspark\n",
        "findspark.init()\n",
        "from pyspark.sql import SparkSession\n",
        "from pyspark.conf import SparkConf"
      ]
    },
    {
      "cell_type": "code",
      "source": [
        "spark=SparkSession.builder\\\n",
        "    .master(\"local[*]\")\\\n",
        "    .appName(\"SQL\")\\\n",
        "    .getOrCreate()\n",
        "df = spark.read.csv(\"/persons.csv\", header=True, inferSchema=True)"
      ],
      "metadata": {
        "id": "jxZP4QWF-96a"
      },
      "execution_count": 4,
      "outputs": []
    },
    {
      "cell_type": "code",
      "source": [
        "#Display schema of DataFrame.\n",
        "print(\"Schema of DataFrame\")\n",
        "df.printSchema()\n"
      ],
      "metadata": {
        "colab": {
          "base_uri": "https://localhost:8080/"
        },
        "id": "sdLXCaQX_Gc9",
        "outputId": "30e8a88e-691b-4b5c-eb81-1efb80c11637"
      },
      "execution_count": 5,
      "outputs": [
        {
          "output_type": "stream",
          "name": "stdout",
          "text": [
            "Schema of DataFrame\n",
            "root\n",
            " |-- name: string (nullable = true)\n",
            " |-- age: integer (nullable = true)\n",
            " |-- gender: string (nullable = true)\n",
            " |-- salary: integer (nullable = true)\n",
            "\n"
          ]
        }
      ]
    },
    {
      "cell_type": "code",
      "source": [
        "#Register the DataFrame as a Temporary Table and name it “persons”.\n",
        "df.createOrReplaceTempView(\"persons\")\n"
      ],
      "metadata": {
        "id": "ZgJ2916Q_U8i"
      },
      "execution_count": 6,
      "outputs": []
    },
    {
      "cell_type": "code",
      "source": [
        "#Select the names column where their age is higher than 25\n",
        "result1 = spark.sql(\"SELECT name FROM persons WHERE age > 25\")\n",
        "print(\"Names of age>25\")\n",
        "result1.show()"
      ],
      "metadata": {
        "colab": {
          "base_uri": "https://localhost:8080/"
        },
        "id": "wgegrGck_cjt",
        "outputId": "c1d7d42e-6647-4e9e-a9fa-9de61937aa7c"
      },
      "execution_count": 7,
      "outputs": [
        {
          "output_type": "stream",
          "name": "stdout",
          "text": [
            "Names of age>25\n",
            "+------------------+\n",
            "|              name|\n",
            "+------------------+\n",
            "|          John Doe|\n",
            "|     David Johnson|\n",
            "|       Emily Davis|\n",
            "|    Michael Wilson|\n",
            "|       Sarah Brown|\n",
            "|        Robert Lee|\n",
            "|       Lisa Garcia|\n",
            "|    James Martinez|\n",
            "|Jennifer Rodriguez|\n",
            "|  William Anderson|\n",
            "|   Karen Hernandez|\n",
            "|Christopher Taylor|\n",
            "|     Matthew Davis|\n",
            "|    Patricia White|\n",
            "|     Daniel Miller|\n",
            "| Elizabeth Jackson|\n",
            "|     Joseph Harris|\n",
            "|      Linda Martin|\n",
            "+------------------+\n",
            "\n"
          ]
        }
      ]
    },
    {
      "cell_type": "code",
      "source": [
        "#Calculate the average salary per gender\n",
        "result2 = spark.sql(\"SELECT gender, AVG(salary) FROM persons GROUP BY gender\")\n",
        "print(\"Avg salary per gender\")\n",
        "result2.show()"
      ],
      "metadata": {
        "colab": {
          "base_uri": "https://localhost:8080/"
        },
        "id": "dWXUd2mB_o8u",
        "outputId": "07bd3a2e-c43f-4558-f94d-c55c16ce086c"
      },
      "execution_count": 8,
      "outputs": [
        {
          "output_type": "stream",
          "name": "stdout",
          "text": [
            "Avg salary per gender\n",
            "+------+-----------+\n",
            "|gender|avg(salary)|\n",
            "+------+-----------+\n",
            "|Female|    52300.0|\n",
            "|  Male|    62100.0|\n",
            "+------+-----------+\n",
            "\n"
          ]
        }
      ]
    },
    {
      "cell_type": "code",
      "source": [
        "#Get the second highest salary\n",
        "result3 = spark.sql(\"SELECT name, salary FROM( SELECT DISTINCT salary , name FROM persons ORDER BY salary DESC) LIMIT 1 OFFSET 1\")\n",
        "print(\"The second highest salary\")\n",
        "result3.show()\n"
      ],
      "metadata": {
        "colab": {
          "base_uri": "https://localhost:8080/"
        },
        "id": "dL_f_18L_8nP",
        "outputId": "044655a3-c67f-4712-fb2d-bf2a95b7d90f"
      },
      "execution_count": 9,
      "outputs": [
        {
          "output_type": "stream",
          "name": "stdout",
          "text": [
            "The second highest salary\n",
            "+------------+------+\n",
            "|        name|salary|\n",
            "+------------+------+\n",
            "|Linda Martin| 71000|\n",
            "+------------+------+\n",
            "\n"
          ]
        }
      ]
    }
  ]
}